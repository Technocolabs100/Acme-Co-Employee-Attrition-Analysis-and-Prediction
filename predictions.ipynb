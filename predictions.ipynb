{
 "cells": [
  {
   "cell_type": "code",
   "execution_count": 11,
   "id": "2aed613b",
   "metadata": {},
   "outputs": [],
   "source": [
    "import pandas as pd\n",
    "import matplotlib.pyplot as plt\n",
    "from sklearn.model_selection import train_test_split\n",
    "from sklearn.ensemble import RandomForestRegressor, RandomForestClassifier\n",
    "from sklearn.preprocessing import OneHotEncoder\n",
    "from sklearn.compose import ColumnTransformer\n",
    "\n",
    "\n",
    "# Load the data\n",
    "data = pd.read_csv(\"C:/Users/91863/Downloads/WA_Fn-UseC_-HR-Employee-Attrition.csv\")\n",
    "data_attrition_yes = data[data['Attrition'] == 'Yes']\n",
    "\n",
    "# Separate features and target variables\n",
    "X = data_attrition_yes.drop(columns=['Attrition']) \n",
    "y_regression = data_attrition_yes['DailyRate']  \n",
    "y_classification = data_attrition_yes['Attrition']  \n",
    "\n",
    "# Identify categorical columns for preprocessing\n",
    "categorical_cols = [col for col in X.columns if X[col].dtype == 'object']\n",
    "\n",
    "# Preprocessing with OneHotEncoder\n",
    "preprocessor = ColumnTransformer(\n",
    "    transformers=[\n",
    "        ('cat', OneHotEncoder(), categorical_cols),\n",
    "    ],\n",
    "    remainder='passthrough'\n",
    ")\n",
    "\n",
    "# Transform features\n",
    "X_processed = preprocessor.fit_transform(X)\n",
    "\n",
    "# Split the data into training and testing sets\n",
    "X_train, X_test, y_regression_train, y_regression_test, y_classification_train, y_classification_test = train_test_split(\n",
    "    X_processed, y_regression, y_classification, test_size=0.2, random_state=42)\n",
    "\n",
    "# Training models\n",
    "regressor_model = RandomForestRegressor()\n",
    "classifier_model = RandomForestClassifier()\n",
    "regressor_model.fit(X_train, y_regression_train)\n",
    "classifier_model.fit(X_train, y_classification_train)\n",
    "\n",
    "# Making predictions\n",
    "daily_rate_predictions = regressor_model.predict(X_test)\n",
    "attrition_predictions = classifier_model.predict(X_test)\n",
    "\n",
    "# Creating DataFrame for predictions\n",
    "predictions_df = pd.DataFrame({'Predicted_DailyRate': daily_rate_predictions, 'Attrition': attrition_predictions})\n",
    "\n",
    "# Save predictions to CSV file\n",
    "predictions_df.to_csv('C:/Users/91863/Downloads/attrition_predictions.csv', index=False)\n",
    "\n"
   ]
  },
  {
   "cell_type": "code",
   "execution_count": 13,
   "id": "685d3955",
   "metadata": {},
   "outputs": [
    {
     "data": {
      "image/png": "[encoded data removed]",
      "text/plain": [
       "<Figure size 432x288 with 1 Axes>"
      ]
     },
     "metadata": {
      "needs_background": "light"
     },
     "output_type": "display_data"
    }
   ],
   "source": [
    "# Load predictions data\n",
    "predictions_df = pd.read_csv('C:/Users/91863/Downloads/attrition_predictions.csv')  # Update path accordingly\n",
    "\n",
    "# Assuming 'Date' column exists in your predictions DataFrame\n",
    "# If 'Date' column doesn't exist, replace it with appropriate x-axis column\n",
    "x_values = predictions_df['Predicted_DailyRate']  # Replace 'Date' with appropriate column name\n",
    "\n",
    "# Assuming 'Predicted_Attrition' column contains the predicted values\n",
    "# Replace it with the appropriate column name\n",
    "y_values = predictions_df['Attrition']  \n",
    "\n",
    "# Plotting the line chart\n",
    "plt.plot(x_values, y_values, marker='o', linestyle='-')\n",
    "\n",
    "# Adding labels and title\n",
    "plt.xlabel('daily rate')  # Replace 'Date' with appropriate label\n",
    "plt.ylabel('Predicted Attrition Probability')  # Replace with appropriate label\n",
    "plt.title('Predicted Attrition Over Time')  # Replace with appropriate title\n",
    "\n",
    "# Displaying the plot\n",
    "plt.xticks(rotation=45)  # Rotate x-axis labels for better readability\n",
    "plt.tight_layout()  # Adjust layout to prevent clipping of labels\n",
    "plt.show()\n"
   ]
  },
  {
   "cell_type": "code",
   "execution_count": 1,
   "id": "f648ce93",
   "metadata": {},
   "outputs": [
    {
     "name": "stdout",
     "output_type": "stream",
     "text": [
      "C:\\Users\\91863\n"
     ]
    }
   ],
   "source": [
    "import os\n",
    "\n",
    "print(os.getcwd())"
   ]
  },
  {
   "cell_type": "code",
   "execution_count": null,
   "id": "d73aea44",
   "metadata": {},
   "outputs": [],
   "source": []
  }
 ],
 "metadata": {
  "kernelspec": {
   "display_name": "Python 3 (ipykernel)",
   "language": "python",
   "name": "python3"
  },
  "language_info": {
   "codemirror_mode": {
    "name": "ipython",
    "version": 3
   },
   "file_extension": ".py",
   "mimetype": "text/x-python",
   "name": "python",
   "nbconvert_exporter": "python",
   "pygments_lexer": "ipython3",
   "version": "3.9.7"
  }
 },
 "nbformat": 4,
 "nbformat_minor": 5
}
