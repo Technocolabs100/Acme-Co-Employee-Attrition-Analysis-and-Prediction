{
  "cells": [
    {
      "cell_type": "markdown",
      "metadata": {},
      "source": [
        "#Acme-Co-Employee-Attrition-Analysis-and-Prediction-main\n",
        "\n",
        "# ( Yashav Shukla )"
      ]
    },
    {
      "cell_type": "code",
      "execution_count": 9,
      "metadata": {
        "id": "49VlTdyKxTIF"
      },
      "outputs": [],
      "source": [
        "import pandas as pd\n",
        "\n",
        "# Load the CSV file\n",
        "file_path = \"/content/WA_Fn-UseC_-HR-Employee-Attrition.csv\"\n",
        "data = pd.read_csv(file_path)"
      ]
    },
    {
      "cell_type": "markdown",
      "metadata": {
        "id": "0mEP_z6C2A6m"
      },
      "source": [
        "#  Data Preprocessing\n",
        "\n"
      ]
    },
    {
      "cell_type": "markdown",
      "metadata": {
        "id": "hobwBoUhxpZA"
      },
      "source": [
        "# 1. Data Exploration"
      ]
    },
    {
      "cell_type": "code",
      "execution_count": 2,
      "metadata": {
        "colab": {
          "base_uri": "https://localhost:8080/"
        },
        "id": "FHih2epaxlVY",
        "outputId": "b88ec5e0-3c00-4c14-fac9-8ba3a4ad5938"
      },
      "outputs": [
        {
          "name": "stdout",
          "output_type": "stream",
          "text": [
            "Number of rows and columns: (1470, 35)\n"
          ]
        }
      ],
      "source": [
        "print(\"Number of rows and columns:\", data.shape)"
      ]
    },
    {
      "cell_type": "code",
      "execution_count": 3,
      "metadata": {
        "colab": {
          "base_uri": "https://localhost:8080/"
        },
        "id": "JO_IeHHvxvIK",
        "outputId": "f8f48068-1372-445a-d4e8-b60ed7e1e365"
      },
      "outputs": [
        {
          "name": "stdout",
          "output_type": "stream",
          "text": [
            "Column names: Index(['Age', 'Attrition', 'BusinessTravel', 'DailyRate', 'Department',\n",
            "       'DistanceFromHome', 'Education', 'EducationField', 'EmployeeCount',\n",
            "       'EmployeeNumber', 'EnvironmentSatisfaction', 'Gender', 'HourlyRate',\n",
            "       'JobInvolvement', 'JobLevel', 'JobRole', 'JobSatisfaction',\n",
            "       'MaritalStatus', 'MonthlyIncome', 'MonthlyRate', 'NumCompaniesWorked',\n",
            "       'Over18', 'OverTime', 'PercentSalaryHike', 'PerformanceRating',\n",
            "       'RelationshipSatisfaction', 'StandardHours', 'StockOptionLevel',\n",
            "       'TotalWorkingYears', 'TrainingTimesLastYear', 'WorkLifeBalance',\n",
            "       'YearsAtCompany', 'YearsInCurrentRole', 'YearsSinceLastPromotion',\n",
            "       'YearsWithCurrManager'],\n",
            "      dtype='object')\n"
          ]
        }
      ],
      "source": [
        "print(\"Column names:\", data.columns)"
      ]
    },
    {
      "cell_type": "code",
      "execution_count": 6,
      "metadata": {
        "colab": {
          "base_uri": "https://localhost:8080/"
        },
        "id": "vnkCnMAHxykc",
        "outputId": "836cbf6d-6a1d-439e-8d03-9fc7ab233860"
      },
      "outputs": [
        {
          "name": "stdout",
          "output_type": "stream",
          "text": [
            "Data types of each column:\n",
            "Age                          int64\n",
            "Attrition                   object\n",
            "BusinessTravel              object\n",
            "DailyRate                    int64\n",
            "Department                  object\n",
            "DistanceFromHome             int64\n",
            "Education                    int64\n",
            "EducationField              object\n",
            "EmployeeCount                int64\n",
            "EmployeeNumber               int64\n",
            "EnvironmentSatisfaction      int64\n",
            "Gender                      object\n",
            "HourlyRate                   int64\n",
            "JobInvolvement               int64\n",
            "JobLevel                     int64\n",
            "JobRole                     object\n",
            "JobSatisfaction              int64\n",
            "MaritalStatus               object\n",
            "MonthlyIncome                int64\n",
            "MonthlyRate                  int64\n",
            "NumCompaniesWorked           int64\n",
            "Over18                      object\n",
            "OverTime                    object\n",
            "PercentSalaryHike            int64\n",
            "PerformanceRating            int64\n",
            "RelationshipSatisfaction     int64\n",
            "StandardHours                int64\n",
            "StockOptionLevel             int64\n",
            "TotalWorkingYears            int64\n",
            "TrainingTimesLastYear        int64\n",
            "WorkLifeBalance              int64\n",
            "YearsAtCompany               int64\n",
            "YearsInCurrentRole           int64\n",
            "YearsSinceLastPromotion      int64\n",
            "YearsWithCurrManager         int64\n",
            "dtype: object\n"
          ]
        }
      ],
      "source": [
        "print(\"Data types of each column:\")\n",
        "print(data.dtypes)"
      ]
    },
    {
      "cell_type": "code",
      "execution_count": 8,
      "metadata": {
        "colab": {
          "base_uri": "https://localhost:8080/"
        },
        "id": "X_JoIjczyBbG",
        "outputId": "0bafe441-74a8-4608-cdba-59ac20ccc03f"
      },
      "outputs": [
        {
          "name": "stdout",
          "output_type": "stream",
          "text": [
            "Basic statistics for numerical columns:\n",
            "               Age    DailyRate  DistanceFromHome    Education  EmployeeCount  \\\n",
            "count  1470.000000  1470.000000       1470.000000  1470.000000         1470.0   \n",
            "mean     36.923810   802.485714          9.192517     2.912925            1.0   \n",
            "std       9.135373   403.509100          8.106864     1.024165            0.0   \n",
            "min      18.000000   102.000000          1.000000     1.000000            1.0   \n",
            "25%      30.000000   465.000000          2.000000     2.000000            1.0   \n",
            "50%      36.000000   802.000000          7.000000     3.000000            1.0   \n",
            "75%      43.000000  1157.000000         14.000000     4.000000            1.0   \n",
            "max      60.000000  1499.000000         29.000000     5.000000            1.0   \n",
            "\n",
            "       EmployeeNumber  EnvironmentSatisfaction   HourlyRate  JobInvolvement  \\\n",
            "count     1470.000000              1470.000000  1470.000000     1470.000000   \n",
            "mean      1024.865306                 2.721769    65.891156        2.729932   \n",
            "std        602.024335                 1.093082    20.329428        0.711561   \n",
            "min          1.000000                 1.000000    30.000000        1.000000   \n",
            "25%        491.250000                 2.000000    48.000000        2.000000   \n",
            "50%       1020.500000                 3.000000    66.000000        3.000000   \n",
            "75%       1555.750000                 4.000000    83.750000        3.000000   \n",
            "max       2068.000000                 4.000000   100.000000        4.000000   \n",
            "\n",
            "          JobLevel  ...  RelationshipSatisfaction  StandardHours  \\\n",
            "count  1470.000000  ...               1470.000000         1470.0   \n",
            "mean      2.063946  ...                  2.712245           80.0   \n",
            "std       1.106940  ...                  1.081209            0.0   \n",
            "min       1.000000  ...                  1.000000           80.0   \n",
            "25%       1.000000  ...                  2.000000           80.0   \n",
            "50%       2.000000  ...                  3.000000           80.0   \n",
            "75%       3.000000  ...                  4.000000           80.0   \n",
            "max       5.000000  ...                  4.000000           80.0   \n",
            "\n",
            "       StockOptionLevel  TotalWorkingYears  TrainingTimesLastYear  \\\n",
            "count       1470.000000        1470.000000            1470.000000   \n",
            "mean           0.793878          11.279592               2.799320   \n",
            "std            0.852077           7.780782               1.289271   \n",
            "min            0.000000           0.000000               0.000000   \n",
            "25%            0.000000           6.000000               2.000000   \n",
            "50%            1.000000          10.000000               3.000000   \n",
            "75%            1.000000          15.000000               3.000000   \n",
            "max            3.000000          40.000000               6.000000   \n",
            "\n",
            "       WorkLifeBalance  YearsAtCompany  YearsInCurrentRole  \\\n",
            "count      1470.000000     1470.000000         1470.000000   \n",
            "mean          2.761224        7.008163            4.229252   \n",
            "std           0.706476        6.126525            3.623137   \n",
            "min           1.000000        0.000000            0.000000   \n",
            "25%           2.000000        3.000000            2.000000   \n",
            "50%           3.000000        5.000000            3.000000   \n",
            "75%           3.000000        9.000000            7.000000   \n",
            "max           4.000000       40.000000           18.000000   \n",
            "\n",
            "       YearsSinceLastPromotion  YearsWithCurrManager  \n",
            "count              1470.000000           1470.000000  \n",
            "mean                  2.187755              4.123129  \n",
            "std                   3.222430              3.568136  \n",
            "min                   0.000000              0.000000  \n",
            "25%                   0.000000              2.000000  \n",
            "50%                   1.000000              3.000000  \n",
            "75%                   3.000000              7.000000  \n",
            "max                  15.000000             17.000000  \n",
            "\n",
            "[8 rows x 26 columns]\n"
          ]
        }
      ],
      "source": [
        "print(\"Basic statistics for numerical columns:\")\n",
        "print(data.describe())"
      ]
    },
    {
      "cell_type": "markdown",
      "metadata": {
        "id": "6uDAqNhVyLi6"
      },
      "source": [
        "# You can plot distributions and histograms using matplotlib or seaborn"
      ]
    },
    {
      "cell_type": "markdown",
      "metadata": {
        "id": "cizd6Y1QyTYt"
      },
      "source": [
        "# 2. Data Cleaning\n"
      ]
    },
    {
      "cell_type": "markdown",
      "metadata": {
        "id": "a9rreSfRyWDZ"
      },
      "source": [
        "## Check for missing values\n"
      ]
    },
    {
      "cell_type": "code",
      "execution_count": 11,
      "metadata": {
        "colab": {
          "base_uri": "https://localhost:8080/"
        },
        "id": "zR7A8NYAyX_P",
        "outputId": "db182196-f72a-4fb6-a3b9-4dc5b4b8e0e3"
      },
      "outputs": [
        {
          "name": "stdout",
          "output_type": "stream",
          "text": [
            "Missing values:\n",
            "Age                         0\n",
            "Attrition                   0\n",
            "BusinessTravel              0\n",
            "DailyRate                   0\n",
            "Department                  0\n",
            "DistanceFromHome            0\n",
            "Education                   0\n",
            "EducationField              0\n",
            "EmployeeCount               0\n",
            "EmployeeNumber              0\n",
            "EnvironmentSatisfaction     0\n",
            "Gender                      0\n",
            "HourlyRate                  0\n",
            "JobInvolvement              0\n",
            "JobLevel                    0\n",
            "JobRole                     0\n",
            "JobSatisfaction             0\n",
            "MaritalStatus               0\n",
            "MonthlyIncome               0\n",
            "MonthlyRate                 0\n",
            "NumCompaniesWorked          0\n",
            "Over18                      0\n",
            "OverTime                    0\n",
            "PercentSalaryHike           0\n",
            "PerformanceRating           0\n",
            "RelationshipSatisfaction    0\n",
            "StandardHours               0\n",
            "StockOptionLevel            0\n",
            "TotalWorkingYears           0\n",
            "TrainingTimesLastYear       0\n",
            "WorkLifeBalance             0\n",
            "YearsAtCompany              0\n",
            "YearsInCurrentRole          0\n",
            "YearsSinceLastPromotion     0\n",
            "YearsWithCurrManager        0\n",
            "dtype: int64\n"
          ]
        }
      ],
      "source": [
        "print(\"Missing values:\")\n",
        "print(data.isnull().sum())"
      ]
    },
    {
      "cell_type": "markdown",
      "metadata": {
        "id": "RbOV0MoCyjC5"
      },
      "source": [
        "## Remove or impute missing values\n",
        "### For demonstration, let's drop rows with missing values"
      ]
    },
    {
      "cell_type": "code",
      "execution_count": 12,
      "metadata": {
        "id": "IpAxqD3wygy9"
      },
      "outputs": [],
      "source": [
        "data_cleaned = data.dropna()"
      ]
    },
    {
      "cell_type": "markdown",
      "metadata": {
        "id": "WHqtInCVyvv-"
      },
      "source": [
        "# 3. Data Encoding (Convert categorical variables to numerical)\n",
        "### For simplicity, let's use one-hot encoding for all categorical variables"
      ]
    },
    {
      "cell_type": "code",
      "execution_count": 13,
      "metadata": {
        "id": "pKwyfI8Kytec"
      },
      "outputs": [],
      "source": [
        "data_encoded = pd.get_dummies(data_cleaned)"
      ]
    },
    {
      "cell_type": "markdown",
      "metadata": {
        "id": "GobHwELcy1iR"
      },
      "source": [
        "# 4. Data Labelling\n",
        "###This depends on the task and available labels in the dataset\n",
        "\n",
        "#### Example of saving the cleaned and encoded data to a new CSV file\n"
      ]
    },
    {
      "cell_type": "code",
      "execution_count": 15,
      "metadata": {
        "colab": {
          "base_uri": "https://localhost:8080/"
        },
        "id": "NROFCjvly8ER",
        "outputId": "700fe157-2257-4b7c-8662-57cecb19f5f5"
      },
      "outputs": [
        {
          "name": "stdout",
          "output_type": "stream",
          "text": [
            "Cleaned and encoded data saved to: cleaned_data.csv\n"
          ]
        }
      ],
      "source": [
        "cleaned_file_path = \"cleaned_data.csv\"\n",
        "data_encoded.to_csv(cleaned_file_path, index=False)\n",
        "print(\"Cleaned and encoded data saved to:\", cleaned_file_path)"
      ]
    }
  ],
  "metadata": {
    "colab": {
      "provenance": []
    },
    "kernelspec": {
      "display_name": "Python 3",
      "name": "python3"
    },
    "language_info": {
      "name": "python"
    }
  },
  "nbformat": 4,
  "nbformat_minor": 0
}
